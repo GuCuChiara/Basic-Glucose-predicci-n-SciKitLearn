{
  "nbformat": 4,
  "nbformat_minor": 0,
  "metadata": {
    "colab": {
      "provenance": [],
      "authorship_tag": "ABX9TyMzpcReEZSX6ixybw/58B75",
      "include_colab_link": true
    },
    "kernelspec": {
      "name": "python3",
      "display_name": "Python 3"
    },
    "language_info": {
      "name": "python"
    }
  },
  "cells": [
    {
      "cell_type": "markdown",
      "metadata": {
        "id": "view-in-github",
        "colab_type": "text"
      },
      "source": [
        "<a href=\"https://colab.research.google.com/github/GuCuChiara/Basic-Glucose-predicci-n-SciKitLearn/blob/main/Basic_Glucose_predicci%C3%B3n_SciKitLearn.ipynb\" target=\"_parent\"><img src=\"https://colab.research.google.com/assets/colab-badge.svg\" alt=\"Open In Colab\"/></a>"
      ]
    },
    {
      "cell_type": "code",
      "execution_count": 1,
      "metadata": {
        "colab": {
          "base_uri": "https://localhost:8080/"
        },
        "id": "pvgBkT1WnurO",
        "outputId": "628ce7a1-e225-4837-b018-e0a951847c1f"
      },
      "outputs": [
        {
          "output_type": "stream",
          "name": "stdout",
          "text": [
            "Mounted at /content/gdrive/\n"
          ]
        }
      ],
      "source": [
        "#montamos nuestra unidad de google drive\n",
        "from google.colab import drive\n",
        "drive.mount('/content/gdrive/',force_remount=True)"
      ]
    },
    {
      "cell_type": "code",
      "source": [
        "#importamos las librerías necesarias\n",
        "import pandas as pd\n",
        "import numpy as np\n",
        "from sklearn.neural_network import MLPRegressor"
      ],
      "metadata": {
        "id": "abe3r84ToLA8"
      },
      "execution_count": 30,
      "outputs": []
    },
    {
      "cell_type": "code",
      "source": [
        "#leemos el archivo gluc_conversion.csv desde nuestra carpeta de colab\n",
        "datos=pd.read_csv(\"/content/gdrive/MyDrive/Colab Notebooks/machine learning proyects/Basic Glucose predicción SciKitLearn/gluc_conversion.csv\")\n",
        "x=datos[\"mmol_L\"]\n",
        "y=datos[\"mg_dl\"]\n",
        "\n",
        "#vemos una previa de nuestro archivo csv a entrenar:\n",
        "print(f\"La tabla gluc_conversion tiene {len(datos)} registros\")\n",
        "datos.head()"
      ],
      "metadata": {
        "colab": {
          "base_uri": "https://localhost:8080/",
          "height": 224
        },
        "id": "30CSJiZFpF0X",
        "outputId": "2a2ba76f-8af9-4ed6-cb68-61dfc795be0d"
      },
      "execution_count": 40,
      "outputs": [
        {
          "output_type": "stream",
          "name": "stdout",
          "text": [
            "La tabla gluc_conversion tiene 57 registros\n"
          ]
        },
        {
          "output_type": "execute_result",
          "data": {
            "text/plain": [
              "   mmol_L  mg_dl\n",
              "0     0.6     10\n",
              "1     0.8     15\n",
              "2     1.1     20\n",
              "3     1.4     25\n",
              "4     1.7     30"
            ],
            "text/html": [
              "\n",
              "  <div id=\"df-a344bc75-dd2d-4911-ac24-284c72b7d8d1\">\n",
              "    <div class=\"colab-df-container\">\n",
              "      <div>\n",
              "<style scoped>\n",
              "    .dataframe tbody tr th:only-of-type {\n",
              "        vertical-align: middle;\n",
              "    }\n",
              "\n",
              "    .dataframe tbody tr th {\n",
              "        vertical-align: top;\n",
              "    }\n",
              "\n",
              "    .dataframe thead th {\n",
              "        text-align: right;\n",
              "    }\n",
              "</style>\n",
              "<table border=\"1\" class=\"dataframe\">\n",
              "  <thead>\n",
              "    <tr style=\"text-align: right;\">\n",
              "      <th></th>\n",
              "      <th>mmol_L</th>\n",
              "      <th>mg_dl</th>\n",
              "    </tr>\n",
              "  </thead>\n",
              "  <tbody>\n",
              "    <tr>\n",
              "      <th>0</th>\n",
              "      <td>0.6</td>\n",
              "      <td>10</td>\n",
              "    </tr>\n",
              "    <tr>\n",
              "      <th>1</th>\n",
              "      <td>0.8</td>\n",
              "      <td>15</td>\n",
              "    </tr>\n",
              "    <tr>\n",
              "      <th>2</th>\n",
              "      <td>1.1</td>\n",
              "      <td>20</td>\n",
              "    </tr>\n",
              "    <tr>\n",
              "      <th>3</th>\n",
              "      <td>1.4</td>\n",
              "      <td>25</td>\n",
              "    </tr>\n",
              "    <tr>\n",
              "      <th>4</th>\n",
              "      <td>1.7</td>\n",
              "      <td>30</td>\n",
              "    </tr>\n",
              "  </tbody>\n",
              "</table>\n",
              "</div>\n",
              "      <button class=\"colab-df-convert\" onclick=\"convertToInteractive('df-a344bc75-dd2d-4911-ac24-284c72b7d8d1')\"\n",
              "              title=\"Convert this dataframe to an interactive table.\"\n",
              "              style=\"display:none;\">\n",
              "        \n",
              "  <svg xmlns=\"http://www.w3.org/2000/svg\" height=\"24px\"viewBox=\"0 0 24 24\"\n",
              "       width=\"24px\">\n",
              "    <path d=\"M0 0h24v24H0V0z\" fill=\"none\"/>\n",
              "    <path d=\"M18.56 5.44l.94 2.06.94-2.06 2.06-.94-2.06-.94-.94-2.06-.94 2.06-2.06.94zm-11 1L8.5 8.5l.94-2.06 2.06-.94-2.06-.94L8.5 2.5l-.94 2.06-2.06.94zm10 10l.94 2.06.94-2.06 2.06-.94-2.06-.94-.94-2.06-.94 2.06-2.06.94z\"/><path d=\"M17.41 7.96l-1.37-1.37c-.4-.4-.92-.59-1.43-.59-.52 0-1.04.2-1.43.59L10.3 9.45l-7.72 7.72c-.78.78-.78 2.05 0 2.83L4 21.41c.39.39.9.59 1.41.59.51 0 1.02-.2 1.41-.59l7.78-7.78 2.81-2.81c.8-.78.8-2.07 0-2.86zM5.41 20L4 18.59l7.72-7.72 1.47 1.35L5.41 20z\"/>\n",
              "  </svg>\n",
              "      </button>\n",
              "      \n",
              "  <style>\n",
              "    .colab-df-container {\n",
              "      display:flex;\n",
              "      flex-wrap:wrap;\n",
              "      gap: 12px;\n",
              "    }\n",
              "\n",
              "    .colab-df-convert {\n",
              "      background-color: #E8F0FE;\n",
              "      border: none;\n",
              "      border-radius: 50%;\n",
              "      cursor: pointer;\n",
              "      display: none;\n",
              "      fill: #1967D2;\n",
              "      height: 32px;\n",
              "      padding: 0 0 0 0;\n",
              "      width: 32px;\n",
              "    }\n",
              "\n",
              "    .colab-df-convert:hover {\n",
              "      background-color: #E2EBFA;\n",
              "      box-shadow: 0px 1px 2px rgba(60, 64, 67, 0.3), 0px 1px 3px 1px rgba(60, 64, 67, 0.15);\n",
              "      fill: #174EA6;\n",
              "    }\n",
              "\n",
              "    [theme=dark] .colab-df-convert {\n",
              "      background-color: #3B4455;\n",
              "      fill: #D2E3FC;\n",
              "    }\n",
              "\n",
              "    [theme=dark] .colab-df-convert:hover {\n",
              "      background-color: #434B5C;\n",
              "      box-shadow: 0px 1px 3px 1px rgba(0, 0, 0, 0.15);\n",
              "      filter: drop-shadow(0px 1px 2px rgba(0, 0, 0, 0.3));\n",
              "      fill: #FFFFFF;\n",
              "    }\n",
              "  </style>\n",
              "\n",
              "      <script>\n",
              "        const buttonEl =\n",
              "          document.querySelector('#df-a344bc75-dd2d-4911-ac24-284c72b7d8d1 button.colab-df-convert');\n",
              "        buttonEl.style.display =\n",
              "          google.colab.kernel.accessAllowed ? 'block' : 'none';\n",
              "\n",
              "        async function convertToInteractive(key) {\n",
              "          const element = document.querySelector('#df-a344bc75-dd2d-4911-ac24-284c72b7d8d1');\n",
              "          const dataTable =\n",
              "            await google.colab.kernel.invokeFunction('convertToInteractive',\n",
              "                                                     [key], {});\n",
              "          if (!dataTable) return;\n",
              "\n",
              "          const docLinkHtml = 'Like what you see? Visit the ' +\n",
              "            '<a target=\"_blank\" href=https://colab.research.google.com/notebooks/data_table.ipynb>data table notebook</a>'\n",
              "            + ' to learn more about interactive tables.';\n",
              "          element.innerHTML = '';\n",
              "          dataTable['output_type'] = 'display_data';\n",
              "          await google.colab.output.renderOutput(dataTable, element);\n",
              "          const docLink = document.createElement('div');\n",
              "          docLink.innerHTML = docLinkHtml;\n",
              "          element.appendChild(docLink);\n",
              "        }\n",
              "      </script>\n",
              "    </div>\n",
              "  </div>\n",
              "  "
            ]
          },
          "metadata": {},
          "execution_count": 40
        }
      ]
    },
    {
      "cell_type": "code",
      "source": [
        "X=x[:,np.newaxis]"
      ],
      "metadata": {
        "colab": {
          "base_uri": "https://localhost:8080/"
        },
        "id": "RLbJJkbKpWLF",
        "outputId": "2a314d7e-0d2a-44a6-d88b-b008b216b521"
      },
      "execution_count": 32,
      "outputs": [
        {
          "output_type": "stream",
          "name": "stderr",
          "text": [
            "<ipython-input-32-f126310730a9>:1: FutureWarning: Support for multi-dimensional indexing (e.g. `obj[:, None]`) is deprecated and will be removed in a future version.  Convert to a numpy array before indexing instead.\n",
            "  X=x[:,np.newaxis]\n"
          ]
        }
      ]
    },
    {
      "cell_type": "code",
      "source": [
        "# ponemos el código en un ciclo while e iteramos hasta que mlr.score sea mayor a 0.98 y sale con un break\n",
        "while True:\n",
        "  from sklearn.model_selection import train_test_split\n",
        "  X_train, X_test, y_train, y_test = train_test_split(X, y)\n",
        "\n",
        "#https://scikit-learn.org/stable/modules/neural_networks_supervised.html#multi-layer-perceptron\n",
        "\n",
        "  mlr=MLPRegressor(solver='lbfgs', alpha=1e-5, hidden_layer_sizes=(3,3), random_state=1)\n",
        "  #entrenamos la red:\n",
        "  mlr.fit(X_train, y_train)\n",
        "  print(f'mlr.score es igual a: {(mlr.score(X_train, y_train))}')\n",
        "  if mlr.score(X_train,y_train) > 0.98:\n",
        "    break"
      ],
      "metadata": {
        "colab": {
          "base_uri": "https://localhost:8080/"
        },
        "id": "1NLXoZhiqroO",
        "outputId": "6897424d-d13c-471f-e884-210ecf5581ca"
      },
      "execution_count": 41,
      "outputs": [
        {
          "output_type": "stream",
          "name": "stdout",
          "text": [
            "mlr.score es igual a: 0.9999942118982349\n"
          ]
        }
      ]
    },
    {
      "cell_type": "code",
      "source": [
        "#from sklearn.externals import joblib\n",
        "import joblib\n",
        "#guardamos nuestro trabajo en nuestra ruta de colab\n",
        "joblib.dump(mlr, '/content/gdrive/MyDrive/Colab Notebooks/machine learning proyects/Basic Glucose predicción SciKitLearn/conversor.pkl')"
      ],
      "metadata": {
        "colab": {
          "base_uri": "https://localhost:8080/"
        },
        "id": "ITjKTs5MB3sr",
        "outputId": "65f6bfc3-19cc-4bfd-d445-d2252cffbaff"
      },
      "execution_count": 42,
      "outputs": [
        {
          "output_type": "execute_result",
          "data": {
            "text/plain": [
              "['/content/gdrive/MyDrive/Colab Notebooks/machine learning proyects/Basic Glucose predicción SciKitLearn/conversor.pkl']"
            ]
          },
          "metadata": {},
          "execution_count": 42
        }
      ]
    },
    {
      "cell_type": "code",
      "source": [
        "#nos pide que ingresemos el valor de glucemia a predecir:\n",
        "ingreso= float(input('Ingresa la glucemia en mmol/L:  ')) # definimos el valor que le vamos a pasar\n",
        "prediccion=mlr.predict([[ingreso]])\n",
        "print(f\"prediccion con {ingreso} mmol/L == {prediccion} mg/dl\")\n",
        "#print(\"Predicción con mmol/L = 6.1  \", mlr.predict([6.1]))"
      ],
      "metadata": {
        "colab": {
          "base_uri": "https://localhost:8080/"
        },
        "id": "chZIqO6a_Tba",
        "outputId": "459b12c6-a330-4cf7-b64a-2fca83c86817"
      },
      "execution_count": 43,
      "outputs": [
        {
          "output_type": "stream",
          "name": "stdout",
          "text": [
            "Ingresa la glucemia en mmol/L:  2\n",
            "prediccion con 2.0 mmol/L == [35.97163731] mg/dl\n"
          ]
        }
      ]
    },
    {
      "cell_type": "code",
      "source": [
        "#cargamos el modelo guardado:\n",
        "import joblib\n",
        "clf_from_joblib= joblib.load('/content/gdrive/MyDrive/Colab Notebooks/machine learning proyects/Basic Glucose predicción SciKitLearn/conversor.pkl')\n",
        "\n"
      ],
      "metadata": {
        "id": "3pBU01TZEVpI"
      },
      "execution_count": 44,
      "outputs": []
    },
    {
      "cell_type": "code",
      "source": [
        "#nos pide que ingresemos el valor de glucemia a predecir:\n",
        "ingreso2= float(input('Ingresa la glucemia en mmol/L:  ')) # definimos el valor que le vamos a pasar\n",
        "prediccion2=clf_from_joblib.predict([[ingreso2]])\n",
        "print(f\"prediccion con {ingreso2} mmol/L == {prediccion2} mg/dl\")"
      ],
      "metadata": {
        "colab": {
          "base_uri": "https://localhost:8080/"
        },
        "id": "EGII44NUFGgx",
        "outputId": "5d88353e-2f45-4ee2-82a5-befa250062f9"
      },
      "execution_count": 45,
      "outputs": [
        {
          "output_type": "stream",
          "name": "stdout",
          "text": [
            "Ingresa la glucemia en mmol/L:  2\n",
            "prediccion con 2.0 mmol/L == [35.97163731] mg/dl\n"
          ]
        }
      ]
    }
  ]
}